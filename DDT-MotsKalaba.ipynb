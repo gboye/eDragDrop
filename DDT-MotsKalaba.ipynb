{
 "cells": [
  {
   "cell_type": "markdown",
   "metadata": {},
   "source": [
    "# Exercices sur l'ordre des mots en kalaba\n",
    "On prend un fichier CSV de traductions kalaba;français\n",
    "- on utilise les mots de la partie phonétique pour les éléments à placer \n",
    "- la traduction sert pour la consigne.\n"
   ]
  },
  {
   "cell_type": "code",
   "execution_count": 31,
   "metadata": {
    "collapsed": true
   },
   "outputs": [],
   "source": [
    "import glob, codecs, StringIO\n",
    "import base64\n",
    "from ToolsMoodleXML import *\n",
    "import ToolsMoodleXML\n",
    "from PIL import Image"
   ]
  },
  {
   "cell_type": "code",
   "execution_count": 32,
   "metadata": {
    "collapsed": false
   },
   "outputs": [],
   "source": [
    "repertoire=\"/Users/gilles/ownCloud/Cours/Bordeaux/L1-LinguistiqueGenerale/Kalaba-Project/16-K1/\"\n",
    "nomTraductions=\"Ordre.txt\""
   ]
  },
  {
   "cell_type": "code",
   "execution_count": 33,
   "metadata": {
    "collapsed": true
   },
   "outputs": [],
   "source": [
    "categorie=u\"Kalaba16/K1/Mots/DDT/\""
   ]
  },
  {
   "cell_type": "markdown",
   "metadata": {},
   "source": [
    "- Les mots sont donnés en *phonétique* et la consigne contient la *traduction*"
   ]
  },
  {
   "cell_type": "code",
   "execution_count": 34,
   "metadata": {
    "collapsed": true
   },
   "outputs": [],
   "source": [
    "theme=u\"OrdrePhrase\"\n",
    "#questions=XMLSeries(categorie+theme)"
   ]
  },
  {
   "cell_type": "code",
   "execution_count": 35,
   "metadata": {
    "collapsed": false
   },
   "outputs": [],
   "source": [
    "traductionsLignes=codecs.open(repertoire+nomTraductions,\"r\",encoding=\"utf8\").readlines()\n",
    "phrases=[]\n",
    "traductions=[]\n",
    "for t in traductionsLignes:\n",
    "    (phrase,traduction)=t.strip().split(\";\")\n",
    "    mots=phrase.strip().split(\" \")\n",
    "    duplicateMots=list(set([x for x in mots if mots.count(x)>1]))\n",
    "    if duplicateMots:\n",
    "        motsTemp=[]\n",
    "        motsNumbers={m:1 for m in duplicateMots}\n",
    "        for mot in mots:\n",
    "            if mot in duplicateMots:\n",
    "                motsTemp.append(mot+\"_%d\"%motsNumbers[mot])\n",
    "                motsNumbers[mot]+=1\n",
    "            else:\n",
    "                motsTemp.append(mot)\n",
    "#        print motsTemp\n",
    "        mots=motsTemp[:]\n",
    "    phrases.append(mots)\n",
    "    traductions.append(traduction)"
   ]
  },
  {
   "cell_type": "code",
   "execution_count": 36,
   "metadata": {
    "collapsed": true
   },
   "outputs": [],
   "source": [
    "def xmlExport(phraseChunks,numImage=0,numSlice=0):\n",
    "    questions=XMLSeries(categorie+theme)\n",
    "    for numPhrase,phrase in enumerate(phraseChunks):\n",
    "        numImage+=len(phrase)\n",
    "        dragdropElements=[]\n",
    "        consigne=u\"Mettez les morceaux de la phrase suivante dans l'ordre<br>\"\n",
    "        consigne+=traductions[numPhrase]+\"<br>\"\n",
    "        print len(phrase)\n",
    "        for numChunk,chunk in enumerate(phrase):\n",
    "            consigne+=\"[[%d]] \"%(numChunk+1)\n",
    "            dragdropElements.append(chunk)\n",
    "        ddt=DragDropText(u\"Phrase-%03d\"%(numPhrase+numSlice*tailleSlice),\n",
    "                         consigne,\n",
    "                         dragdropElements\n",
    "                        )\n",
    "        questions.addExercice(ddt)\n",
    "\n",
    "    xmlOutput=MoodleXML()\n",
    "    xmlOutput.addQuiz(questions.getSeries())\n",
    "\n",
    "#    return xmlOutput\n",
    "    xmlFichier=repertoire+nomTraductions.replace(\".txt\",\"-%s-%02d.xml\"%(theme,numSlice))\n",
    "    with codecs.open(xmlFichier, 'w',encoding=\"utf8\") as output:\n",
    "        output.write(xmlOutput.getXML())\n",
    "    return (numImage)"
   ]
  },
  {
   "cell_type": "code",
   "execution_count": 37,
   "metadata": {
    "collapsed": false
   },
   "outputs": [
    {
     "name": "stdout",
     "output_type": "stream",
     "text": [
      "6\n",
      "9\n",
      "9\n",
      "6\n",
      "8\n",
      "7\n",
      "7\n",
      "9\n",
      "10\n",
      "9\n",
      "10\n",
      "7\n",
      "8\n",
      "9\n",
      "11\n",
      "9\n",
      "11\n",
      "9\n",
      "9\n",
      "11\n",
      "6\n",
      "13\n",
      "8\n",
      "8\n",
      "9\n",
      "9\n",
      "7\n",
      "14\n",
      "12\n",
      "12\n",
      "14\n",
      "10\n",
      "12\n",
      "6\n",
      "7\n",
      "8\n",
      "8\n",
      "8\n",
      "7\n",
      "9\n",
      "8\n",
      "8\n",
      "10\n",
      "9\n",
      "11\n",
      "8\n",
      "10\n",
      "9\n",
      "6\n",
      "6\n",
      "11\n",
      "8\n",
      "7\n",
      "13\n",
      "8\n",
      "8\n",
      "11\n",
      "7\n",
      "12\n",
      "7\n",
      "7\n",
      "8\n",
      "7\n",
      "12\n",
      "12\n",
      "12\n",
      "10\n",
      "17\n",
      "8\n",
      "14\n",
      "9\n",
      "12\n",
      "5\n",
      "8\n",
      "12\n",
      "8\n",
      "14\n",
      "5\n",
      "5\n",
      "10\n",
      "9\n",
      "9\n",
      "10\n",
      "12\n",
      "11\n",
      "9\n",
      "8\n",
      "6\n",
      "10\n",
      "8\n",
      "12\n",
      "10\n",
      "8\n",
      "5\n",
      "8\n",
      "9\n",
      "9\n",
      "10\n",
      "8\n",
      "6\n",
      "7\n",
      "11\n",
      "11\n",
      "5\n",
      "9\n",
      "7\n",
      "6\n",
      "14\n",
      "9\n",
      "9\n",
      "8\n",
      "11\n",
      "9\n",
      "6\n",
      "13\n",
      "10\n",
      "9\n",
      "10\n",
      "8\n",
      "9\n",
      "14\n",
      "12\n",
      "7\n",
      "8\n",
      "13\n",
      "10\n",
      "8\n",
      "14\n",
      "6\n",
      "11\n",
      "7\n",
      "8\n",
      "9\n",
      "12\n",
      "8\n",
      "17\n",
      "11\n",
      "11\n",
      "11\n",
      "11\n",
      "9\n",
      "9\n",
      "10\n",
      "10\n",
      "6\n",
      "9\n",
      "6\n",
      "13\n",
      "8\n",
      "7\n",
      "13\n",
      "8\n",
      "7\n",
      "9\n",
      "9\n",
      "5\n",
      "10\n",
      "7\n",
      "16\n",
      "12\n",
      "6\n",
      "5\n",
      "6\n",
      "11\n",
      "6\n",
      "7\n",
      "8\n",
      "17\n",
      "13\n",
      "8\n",
      "10\n"
     ]
    },
    {
     "data": {
      "text/plain": [
       "1579"
      ]
     },
     "execution_count": 37,
     "metadata": {},
     "output_type": "execute_result"
    }
   ],
   "source": [
    "tailleSlice=500\n",
    "xmlExport(phrases)"
   ]
  },
  {
   "cell_type": "code",
   "execution_count": null,
   "metadata": {
    "collapsed": true
   },
   "outputs": [],
   "source": []
  }
 ],
 "metadata": {
  "kernelspec": {
   "display_name": "Python 2",
   "language": "python",
   "name": "python2"
  },
  "language_info": {
   "codemirror_mode": {
    "name": "ipython",
    "version": 2
   },
   "file_extension": ".py",
   "mimetype": "text/x-python",
   "name": "python",
   "nbconvert_exporter": "python",
   "pygments_lexer": "ipython2",
   "version": "2.7.11"
  }
 },
 "nbformat": 4,
 "nbformat_minor": 0
}
