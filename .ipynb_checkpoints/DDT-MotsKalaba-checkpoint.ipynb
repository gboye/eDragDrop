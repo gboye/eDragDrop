{
 "cells": [
  {
   "cell_type": "markdown",
   "metadata": {},
   "source": [
    "# Exercices sur l'ordre des mots en kalaba\n",
    "On prend un fichier CSV de traductions kalaba;français\n",
    "- on utilise les mots de la partie phonétique pour les éléments à placer \n",
    "- la traduction sert pour la consigne.\n"
   ]
  },
  {
   "cell_type": "code",
   "execution_count": 57,
   "metadata": {
    "collapsed": true
   },
   "outputs": [],
   "source": [
    "import glob, codecs, StringIO\n",
    "import base64\n",
    "from ToolsMoodleXML import *\n",
    "import ToolsMoodleXML\n",
    "from PIL import Image"
   ]
  },
  {
   "cell_type": "code",
   "execution_count": 58,
   "metadata": {
    "collapsed": false
   },
   "outputs": [],
   "source": [
    "nKalaba=\"K3\"\n",
    "repertoire=\"/Users/gilles/ownCloud/Cours/Bordeaux/L1-LinguistiqueGenerale/Kalaba-Project/16-%s/\"%nKalaba\n",
    "nomTraductions=\"Ordre.txt\""
   ]
  },
  {
   "cell_type": "code",
   "execution_count": 59,
   "metadata": {
    "collapsed": true
   },
   "outputs": [],
   "source": [
    "categorie=u\"Kalaba16/%s/Syntaxe/A2B1/Ordre/Mots/DDT/\"%nKalaba"
   ]
  },
  {
   "cell_type": "markdown",
   "metadata": {},
   "source": [
    "- Les mots sont donnés en *phonétique* et la consigne contient la *traduction*"
   ]
  },
  {
   "cell_type": "code",
   "execution_count": 60,
   "metadata": {
    "collapsed": true
   },
   "outputs": [],
   "source": [
    "theme=u\"OrdrePhrases\"\n",
    "#questions=XMLSeries(categorie+theme)"
   ]
  },
  {
   "cell_type": "code",
   "execution_count": 61,
   "metadata": {
    "collapsed": true
   },
   "outputs": [],
   "source": [
    "nomFonctions=[\"SUJ\",\"VER\",\"OBJ\",\"IND\",\"COMP\",\"AJOUT\"]"
   ]
  },
  {
   "cell_type": "markdown",
   "metadata": {},
   "source": [
    "# Problèmes et Modifications\n",
    "- il faudrait changer la stratégie pour les mots dupliqués\n",
    " - utiliser la notion de *réutilisable* de Moodle"
   ]
  },
  {
   "cell_type": "code",
   "execution_count": 62,
   "metadata": {
    "collapsed": false
   },
   "outputs": [],
   "source": [
    "traductionsLignes=codecs.open(repertoire+nomTraductions,\"r\",encoding=\"utf8\").readlines()\n",
    "#traductionsLignes=[traductionsLignes[-1]]\n",
    "phrases=[]\n",
    "traductions=[]\n",
    "for t in traductionsLignes:\n",
    "    elements=t.strip().split(\";\")\n",
    "    if len(elements)==2:\n",
    "        (phrase,traduction)=elements\n",
    "    elif len(elements)==3:\n",
    "        traduction=elements[1]\n",
    "        phrase=elements[2]\n",
    "    mots=phrase.strip().split(\" \")\n",
    "    duplicateMots=list(set([x for x in mots if mots.count(x)>1]))\n",
    "    if duplicateMots:\n",
    "        motsTemp=[]\n",
    "        motsNumbers={m:1 for m in duplicateMots}\n",
    "        for mot in mots:\n",
    "            if mot in duplicateMots:\n",
    "                motsTemp.append(mot+\"_%d\"%motsNumbers[mot])\n",
    "                motsNumbers[mot]+=1\n",
    "            else:\n",
    "                motsTemp.append(mot)\n",
    "#        print motsTemp\n",
    "        mots=motsTemp[:]\n",
    "    phrases.append(mots)\n",
    "    traductions.append(traduction)"
   ]
  },
  {
   "cell_type": "code",
   "execution_count": 63,
   "metadata": {
    "collapsed": true
   },
   "outputs": [],
   "source": [
    "def xmlExport(phraseChunks,numImage=0,numSlice=0):\n",
    "    questions=XMLSeries(categorie+theme)\n",
    "    for numPhrase,phrase in enumerate(phraseChunks):\n",
    "        numImage+=len(phrase)\n",
    "        dragdropElements=[]\n",
    "        consigne=u\"Mettez les morceaux de la phrase suivante dans l'ordre<br>\"\n",
    "        consigne+=traductions[numPhrase]+\"<br>\"\n",
    "        print len(phrase)\n",
    "        for numChunk,chunk in enumerate(phrase):\n",
    "            consigne+=\"[[%d]] \"%(numChunk+1)\n",
    "            dragdropElements.append(chunk)\n",
    "        ddt=DragDropText(u\"Phrase-%03d\"%(numPhrase+1+numSlice*tailleSlice),\n",
    "                         consigne,\n",
    "                         dragdropElements\n",
    "                        )\n",
    "        questions.addExercice(ddt)\n",
    "\n",
    "    xmlOutput=MoodleXML()\n",
    "    xmlOutput.addQuiz(questions.getSeries())\n",
    "\n",
    "#    return xmlOutput\n",
    "    xmlFichier=repertoire+nomTraductions.replace(\".txt\",\"-%s-%02d.xml\"%(theme,numSlice))\n",
    "    with codecs.open(xmlFichier, 'w',encoding=\"utf8\") as output:\n",
    "        output.write(xmlOutput.getXML())\n",
    "    return (numImage)"
   ]
  },
  {
   "cell_type": "code",
   "execution_count": 64,
   "metadata": {
    "collapsed": false
   },
   "outputs": [],
   "source": [
    "#phrases[-1]"
   ]
  },
  {
   "cell_type": "code",
   "execution_count": 65,
   "metadata": {
    "collapsed": false
   },
   "outputs": [
    {
     "name": "stdout",
     "output_type": "stream",
     "text": [
      "6\n",
      "8\n",
      "8\n",
      "6\n",
      "8\n",
      "7\n",
      "7\n",
      "8\n",
      "9\n",
      "9\n",
      "10\n",
      "7\n",
      "8\n",
      "9\n",
      "11\n",
      "9\n",
      "10\n",
      "9\n",
      "9\n",
      "11\n",
      "6\n",
      "13\n",
      "8\n",
      "8\n",
      "9\n",
      "9\n",
      "7\n",
      "14\n",
      "12\n",
      "12\n",
      "14\n",
      "10\n",
      "12\n",
      "6\n",
      "6\n",
      "8\n",
      "8\n",
      "7\n",
      "6\n",
      "9\n",
      "8\n",
      "8\n",
      "10\n",
      "9\n",
      "11\n",
      "8\n",
      "10\n",
      "9\n",
      "6\n",
      "6\n",
      "11\n",
      "7\n",
      "7\n",
      "13\n",
      "8\n",
      "8\n",
      "10\n",
      "7\n",
      "12\n",
      "7\n",
      "7\n",
      "8\n",
      "7\n",
      "11\n",
      "11\n",
      "12\n",
      "10\n",
      "16\n",
      "8\n",
      "13\n",
      "9\n",
      "12\n",
      "5\n",
      "8\n",
      "12\n",
      "8\n",
      "14\n",
      "5\n",
      "5\n",
      "9\n",
      "9\n",
      "9\n",
      "10\n",
      "12\n",
      "10\n",
      "9\n",
      "8\n",
      "6\n",
      "10\n",
      "8\n",
      "11\n",
      "10\n",
      "8\n",
      "5\n",
      "7\n",
      "9\n",
      "9\n",
      "10\n",
      "8\n",
      "6\n",
      "7\n",
      "10\n",
      "10\n",
      "5\n",
      "8\n",
      "7\n",
      "6\n",
      "13\n",
      "9\n",
      "8\n",
      "8\n",
      "10\n",
      "9\n",
      "6\n",
      "12\n",
      "10\n",
      "9\n",
      "10\n",
      "7\n",
      "9\n",
      "13\n",
      "12\n",
      "7\n",
      "8\n",
      "13\n",
      "10\n",
      "8\n",
      "14\n",
      "6\n",
      "10\n",
      "7\n",
      "8\n",
      "9\n",
      "11\n",
      "7\n",
      "17\n",
      "10\n",
      "11\n",
      "11\n",
      "11\n",
      "9\n",
      "9\n",
      "10\n",
      "9\n",
      "6\n",
      "8\n",
      "6\n",
      "13\n",
      "8\n",
      "7\n",
      "13\n",
      "7\n",
      "7\n",
      "9\n",
      "8\n",
      "5\n",
      "10\n",
      "7\n",
      "15\n",
      "12\n",
      "6\n",
      "5\n",
      "6\n",
      "11\n",
      "6\n",
      "7\n",
      "7\n",
      "16\n",
      "13\n",
      "8\n",
      "9\n",
      "12\n",
      "13\n",
      "11\n",
      "13\n",
      "9\n",
      "13\n",
      "15\n",
      "13\n",
      "13\n",
      "14\n"
     ]
    },
    {
     "data": {
      "text/plain": [
       "1666"
      ]
     },
     "execution_count": 65,
     "metadata": {},
     "output_type": "execute_result"
    }
   ],
   "source": [
    "tailleSlice=500\n",
    "xmlExport(phrases)"
   ]
  },
  {
   "cell_type": "code",
   "execution_count": null,
   "metadata": {
    "collapsed": true
   },
   "outputs": [],
   "source": []
  }
 ],
 "metadata": {
  "kernelspec": {
   "display_name": "Python 2",
   "language": "python",
   "name": "python2"
  },
  "language_info": {
   "codemirror_mode": {
    "name": "ipython",
    "version": 2
   },
   "file_extension": ".py",
   "mimetype": "text/x-python",
   "name": "python",
   "nbconvert_exporter": "python",
   "pygments_lexer": "ipython2",
   "version": "2.7.11"
  }
 },
 "nbformat": 4,
 "nbformat_minor": 0
}
