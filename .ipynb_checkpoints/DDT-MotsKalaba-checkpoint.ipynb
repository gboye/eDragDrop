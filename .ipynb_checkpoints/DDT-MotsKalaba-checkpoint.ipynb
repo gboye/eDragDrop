{
 "cells": [
  {
   "cell_type": "markdown",
   "metadata": {},
   "source": [
    "# Exercices sur l'ordre des mots en kalaba\n",
    "On prend un fichier CSV de traductions kalaba;français\n",
    "- on utilise les mots de la partie phonétique pour les éléments à placer \n",
    "- la traduction sert pour la consigne.\n"
   ]
  },
  {
   "cell_type": "code",
   "execution_count": 23,
   "metadata": {
    "collapsed": true
   },
   "outputs": [],
   "source": [
    "import glob, codecs, StringIO\n",
    "import base64\n",
    "from ToolsMoodleXML import *\n",
    "import ToolsMoodleXML\n",
    "from PIL import Image"
   ]
  },
  {
   "cell_type": "code",
   "execution_count": 24,
   "metadata": {
    "collapsed": false
   },
   "outputs": [],
   "source": [
    "repertoire=\"/Users/gilles/ownCloud/Cours/Bordeaux/L1-LinguistiqueGenerale/Kalaba-Project/16-K1/\"\n",
    "nomTraductions=\"Ordre.txt\""
   ]
  },
  {
   "cell_type": "code",
   "execution_count": 25,
   "metadata": {
    "collapsed": true
   },
   "outputs": [],
   "source": [
    "categorie=u\"Kalaba16/K1/Syntagmes/A2B1/Ordre/Fonctions/DDT/\""
   ]
  },
  {
   "cell_type": "markdown",
   "metadata": {},
   "source": [
    "- Les mots sont donnés en *phonétique* et la consigne contient la *traduction*"
   ]
  },
  {
   "cell_type": "code",
   "execution_count": 26,
   "metadata": {
    "collapsed": true
   },
   "outputs": [],
   "source": [
    "theme=u\"OrdrePhrase\"\n",
    "#questions=XMLSeries(categorie+theme)"
   ]
  },
  {
   "cell_type": "code",
   "execution_count": 27,
   "metadata": {
    "collapsed": false
   },
   "outputs": [],
   "source": [
    "traductionsLignes=codecs.open(repertoire+nomTraductions,\"r\",encoding=\"utf8\").readlines()\n",
    "#traductionsLignes=[traductionsLignes[-1]]\n",
    "phrases=[]\n",
    "traductions=[]\n",
    "for t in traductionsLignes:\n",
    "    (phrase,traduction)=t.strip().split(\";\")\n",
    "    mots=phrase.strip().split(\" \")\n",
    "    duplicateMots=list(set([x for x in mots if mots.count(x)>1]))\n",
    "    if duplicateMots:\n",
    "        motsTemp=[]\n",
    "        motsNumbers={m:1 for m in duplicateMots}\n",
    "        for mot in mots:\n",
    "            if mot in duplicateMots:\n",
    "                motsTemp.append(mot+\"_%d\"%motsNumbers[mot])\n",
    "                motsNumbers[mot]+=1\n",
    "            else:\n",
    "                motsTemp.append(mot)\n",
    "#        print motsTemp\n",
    "        mots=motsTemp[:]\n",
    "    phrases.append(mots)\n",
    "    traductions.append(traduction)"
   ]
  },
  {
   "cell_type": "code",
   "execution_count": 28,
   "metadata": {
    "collapsed": true
   },
   "outputs": [],
   "source": [
    "def xmlExport(phraseChunks,numImage=0,numSlice=0):\n",
    "    questions=XMLSeries(categorie+theme)\n",
    "    for numPhrase,phrase in enumerate(phraseChunks):\n",
    "        numImage+=len(phrase)\n",
    "        dragdropElements=[]\n",
    "        consigne=u\"Mettez les morceaux de la phrase suivante dans l'ordre<br>\"\n",
    "        consigne+=traductions[numPhrase]+\"<br>\"\n",
    "        print len(phrase)\n",
    "        for numChunk,chunk in enumerate(phrase):\n",
    "            consigne+=\"[[%d]] \"%(numChunk+1)\n",
    "            dragdropElements.append(chunk)\n",
    "        ddt=DragDropText(u\"Phrase-%03d\"%(numPhrase+numSlice*tailleSlice),\n",
    "                         consigne,\n",
    "                         dragdropElements\n",
    "                        )\n",
    "        questions.addExercice(ddt)\n",
    "\n",
    "    xmlOutput=MoodleXML()\n",
    "    xmlOutput.addQuiz(questions.getSeries())\n",
    "\n",
    "#    return xmlOutput\n",
    "    xmlFichier=repertoire+nomTraductions.replace(\".txt\",\"-%s-%02d.xml\"%(theme,numSlice))\n",
    "    with codecs.open(xmlFichier, 'w',encoding=\"utf8\") as output:\n",
    "        output.write(xmlOutput.getXML())\n",
    "    return (numImage)"
   ]
  },
  {
   "cell_type": "code",
   "execution_count": 29,
   "metadata": {
    "collapsed": false
   },
   "outputs": [
    {
     "data": {
      "text/plain": [
       "[u'las',\n",
       " u'karpas',\n",
       " u'ad_1',\n",
       " u'lo',\n",
       " u'nabilo',\n",
       " u'ma\\u0292inen',\n",
       " u'puw',\n",
       " u'la_1',\n",
       " u'buro',\n",
       " u'ad_2',\n",
       " u'la_2',\n",
       " u'furo']"
      ]
     },
     "execution_count": 29,
     "metadata": {},
     "output_type": "execute_result"
    }
   ],
   "source": [
    "phrases[-1]"
   ]
  },
  {
   "cell_type": "code",
   "execution_count": 30,
   "metadata": {
    "collapsed": false
   },
   "outputs": [
    {
     "name": "stdout",
     "output_type": "stream",
     "text": [
      "12\n"
     ]
    },
    {
     "data": {
      "text/plain": [
       "12"
      ]
     },
     "execution_count": 30,
     "metadata": {},
     "output_type": "execute_result"
    }
   ],
   "source": [
    "tailleSlice=500\n",
    "xmlExport(phrases)"
   ]
  },
  {
   "cell_type": "code",
   "execution_count": null,
   "metadata": {
    "collapsed": true
   },
   "outputs": [],
   "source": []
  }
 ],
 "metadata": {
  "kernelspec": {
   "display_name": "Python 2",
   "language": "python",
   "name": "python2"
  },
  "language_info": {
   "codemirror_mode": {
    "name": "ipython",
    "version": 2
   },
   "file_extension": ".py",
   "mimetype": "text/x-python",
   "name": "python",
   "nbconvert_exporter": "python",
   "pygments_lexer": "ipython2",
   "version": "2.7.11"
  }
 },
 "nbformat": 4,
 "nbformat_minor": 0
}
