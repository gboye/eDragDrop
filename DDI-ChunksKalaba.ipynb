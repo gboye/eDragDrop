{
 "cells": [
  {
   "cell_type": "code",
   "execution_count": 327,
   "metadata": {
    "collapsed": false
   },
   "outputs": [],
   "source": [
    "from PIL import Image\n",
    "import glob,StringIO,codecs\n",
    "from ToolsMoodleXML import *\n",
    "import ToolsMoodleXML\n",
    "import base64"
   ]
  },
  {
   "cell_type": "raw",
   "metadata": {},
   "source": [
    "def encodeImage(image):\n",
    "    resizedImage=Image.new(mode='RGBA', size=(600, image.size[1]), color=(0,0,0,0))\n",
    "    resizedImage.paste(image, (0, 0))\n",
    "    resizedImage.save(imageIO,\"PNG\")\n",
    "    result=base64.b64encode(imageIO.getvalue())\n",
    "    return result"
   ]
  },
  {
   "cell_type": "code",
   "execution_count": 328,
   "metadata": {
    "collapsed": false
   },
   "outputs": [],
   "source": [
    "def redimensionne(image):\n",
    "    '''\n",
    "    redimensionne l'image à la taille maximale autorisée (150,100)\n",
    "    '''\n",
    "    maxImageSize=(150.0,100.0)\n",
    "    print image.size\n",
    "    ratio=min(maxImageSize[0]/image.size[0],maxImageSize[1]/image.size[1])\n",
    "    print ratio\n",
    "    result=image.thumbnail(maxImageSize,Image.ANTIALIAS)\n",
    "    tempImageSize=(image.size[0],image.size[1])\n",
    "    print tempImageSize\n",
    "    result=image.resize(tempImageSize,Image.ANTIALIAS)\n",
    "    return result\n",
    "#temp=Image.open(repertoire+\"Images/16-K1-CHUNKS 461.png\")\n",
    "#redimensionne(temp)"
   ]
  },
  {
   "cell_type": "code",
   "execution_count": 329,
   "metadata": {
    "collapsed": false
   },
   "outputs": [],
   "source": [
    "def generate_montage(filenames):\n",
    "    hMargin=10\n",
    "    vMargin=10\n",
    "    dragdropElements=[]\n",
    "    maxImageSize=(150,100)\n",
    "    images = [Image.open(filename) for filename in filenames]\n",
    "    images = [image if (image.size[0]<=150) and (image.size[1]<=100) else redimensionne(image) for image in images]\n",
    "    if None in images:\n",
    "        print \"problèmes avec %s\",\" \".join(filenames)\n",
    "    widthMax = max(image.size[0] + hMargin for image in images)\n",
    "    heightMax = max(image.size[1] + vMargin for image in images)\n",
    "    row_size=600//(widthMax)\n",
    "    height = heightMax*len(images)//row_size\n",
    "    montage = Image.new(mode='RGBA', size=(widthMax*row_size, height), color=(0,0,0,0))\n",
    "\n",
    "    max_x = 0\n",
    "    max_y = 0\n",
    "    offset_x = 0\n",
    "    offset_y = 0\n",
    "    for i,image in enumerate(images):\n",
    "        blankImage=Image.new(mode='RGBA', size=(image.size[0], image.size[1]), color=(0, 0, 0, 0))\n",
    "        montage.paste(blankImage, (offset_x, offset_y))\n",
    "        imageIO=StringIO.StringIO()\n",
    "        image.save(imageIO,\"PNG\")\n",
    "        dragdropElements.append((base64.b64encode(imageIO.getvalue()),(offset_x, offset_y)))\n",
    "        imageIO.close()\n",
    "        max_x = max(max_x, offset_x + widthMax)\n",
    "        max_y = max(max_y, offset_y + heightMax)\n",
    "\n",
    "        if i % row_size == row_size-1:\n",
    "            offset_y = max_y + vMargin\n",
    "            offset_x = 0\n",
    "        else:\n",
    "            offset_x += hMargin + widthMax\n",
    "\n",
    "    montage = montage.crop((0, 0, max_x, max_y+vMargin))\n",
    "#    print (0, 0, max_x, max_y+vMargin)\n",
    "    return (montage,dragdropElements)"
   ]
  },
  {
   "cell_type": "code",
   "execution_count": 330,
   "metadata": {
    "collapsed": true
   },
   "outputs": [],
   "source": [
    "repertoire=\"/Users/gilles/ownCloud/Cours/Bordeaux/L1-LinguistiqueGenerale/Kalaba-Project/16-K1/\"\n",
    "nomImages=glob.glob(repertoire+\"Images/16-K1-CHUNKS*.png\")\n",
    "nomImages=sorted(nomImages,key=lambda x: len(x))\n",
    "nomCSV=\"Ordre.csv\""
   ]
  },
  {
   "cell_type": "code",
   "execution_count": 331,
   "metadata": {
    "collapsed": true
   },
   "outputs": [],
   "source": [
    "categorie=u\"Kalaba16/K1/Ordre/Chunks/DDI/\"\n",
    "theme=u\"Phonétique\"\n",
    "theme=u\"Traductions\"\n",
    "#theme=u\"Brut\""
   ]
  },
  {
   "cell_type": "code",
   "execution_count": 332,
   "metadata": {
    "collapsed": true
   },
   "outputs": [],
   "source": [
    "phrasesLignes=codecs.open(repertoire+nomCSV,\"r\",encoding=\"utf8\").readlines()\n",
    "phraseChunks=[]\n",
    "for p in phrasesLignes:\n",
    "    chunks=[c for c in p.strip().split(\"\\t\") if c!=\"\"]\n",
    "    phraseChunks.append(chunks)\n",
    "#phraseChunks"
   ]
  },
  {
   "cell_type": "code",
   "execution_count": 333,
   "metadata": {
    "collapsed": false,
    "scrolled": true
   },
   "outputs": [],
   "source": [
    "phrasesLignes=codecs.open(repertoire+nomCSV.replace(\".csv\",\".txt\"),\"r\",encoding=\"utf8\").readlines()\n",
    "prononciations=[]\n",
    "traductions=[]\n",
    "for p in phrasesLignes:\n",
    "    prononciation,traduction=p.strip().split(\";\")\n",
    "    prononciations.append(prononciation.strip())\n",
    "    traductions.append(traduction.strip())"
   ]
  },
  {
   "cell_type": "code",
   "execution_count": 334,
   "metadata": {
    "collapsed": false
   },
   "outputs": [],
   "source": [
    "def xmlExport(phraseChunks,numImage=0,numSlice=0):\n",
    "    questions=XMLSeries(categorie+theme)\n",
    "    for numPhrase,phrase in enumerate(phraseChunks):\n",
    "        filenames=nomImages[numImage+numPhrase:numImage+numPhrase+len(phrase)]\n",
    "        numImage+=len(phrase)\n",
    "        (montage,hPositions)=generate_montage(filenames)\n",
    "        imageIO=StringIO.StringIO()\n",
    "        montage.save(imageIO,\"PNG\")\n",
    "        base64Image=base64.b64encode(imageIO.getvalue())\n",
    "        imageIO.close()\n",
    "        consigne=u\"Mettez les morceaux de la phrase suivante dans l'ordre<br>\"\n",
    "        if theme==u\"Phonétique\":\n",
    "            consigne+=prononciations[numPhrase]+\"<br>\"\n",
    "        elif theme==u\"Traductions\":\n",
    "            consigne+=traductions[numPhrase]+\"<br>\"\n",
    "        ddi=DragDropImage(u\"Chunks%03d\"%(numPhrase+numSlice*tailleSlice),\n",
    "                         consigne,\n",
    "                         base64Image,\n",
    "                         hPositions,\n",
    "                         drag=\"image\"\n",
    "                         )\n",
    "        questions.addExercice(ddi)\n",
    "\n",
    "    xmlOutput=MoodleXML()\n",
    "    xmlOutput.addQuiz(questions.getSeries())\n",
    "\n",
    "    xmlFichier=repertoire+nomCSV.replace(\".csv\",\"-%s-%02d.xml\"%(theme,numSlice))\n",
    "    with codecs.open(xmlFichier, 'w',encoding=\"utf8\") as output:\n",
    "        output.write(xmlOutput.getXML())\n",
    "    return (numImage)"
   ]
  },
  {
   "cell_type": "code",
   "execution_count": 335,
   "metadata": {
    "collapsed": true
   },
   "outputs": [],
   "source": [
    "def chunker(seq, size):\n",
    "    return [seq[pos:pos + size] for pos in xrange(0, len(seq), size)]"
   ]
  },
  {
   "cell_type": "code",
   "execution_count": 336,
   "metadata": {
    "collapsed": false,
    "scrolled": true
   },
   "outputs": [
    {
     "name": "stdout",
     "output_type": "stream",
     "text": [
      "0 (145, 103)\n",
      "0.970873786408\n",
      "(140, 100)\n",
      "(145, 103)\n",
      "0.970873786408\n",
      "(140, 100)\n"
     ]
    }
   ],
   "source": [
    "numPhrase=0\n",
    "tailleSlice=500\n",
    "for numGroupe,groupe in enumerate(chunker(phraseChunks,tailleSlice)):\n",
    "    print numGroupe,\n",
    "    numPhrase=xmlExport(groupe,numPhrase,numGroupe)"
   ]
  },
  {
   "cell_type": "code",
   "execution_count": null,
   "metadata": {
    "collapsed": false
   },
   "outputs": [],
   "source": []
  }
 ],
 "metadata": {
  "kernelspec": {
   "display_name": "Python 2",
   "language": "python",
   "name": "python2"
  },
  "language_info": {
   "codemirror_mode": {
    "name": "ipython",
    "version": 2
   },
   "file_extension": ".py",
   "mimetype": "text/x-python",
   "name": "python",
   "nbconvert_exporter": "python",
   "pygments_lexer": "ipython2",
   "version": "2.7.12"
  }
 },
 "nbformat": 4,
 "nbformat_minor": 0
}
