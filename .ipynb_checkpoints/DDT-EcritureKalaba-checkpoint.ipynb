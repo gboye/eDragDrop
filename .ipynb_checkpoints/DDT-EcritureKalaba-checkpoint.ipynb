{
 "cells": [
  {
   "cell_type": "code",
   "execution_count": 9,
   "metadata": {
    "collapsed": true
   },
   "outputs": [],
   "source": [
    "import glob, codecs, StringIO\n",
    "import base64\n",
    "from ToolsMoodleXML import *\n",
    "import ToolsMoodleXML\n",
    "from PIL import Image"
   ]
  },
  {
   "cell_type": "code",
   "execution_count": 10,
   "metadata": {
    "collapsed": false
   },
   "outputs": [],
   "source": [
    "repertoire=\"/Users/gilles/ownCloud/Cours/Bordeaux/L1-LinguistiqueGenerale/Kalaba-Project/16-K1/\"\n",
    "nomImages=glob.glob(repertoire+\"Images/16-K1-PREVIEW*.png\")\n",
    "nomImages=sorted(nomImages,key=lambda x: len(x))\n",
    "nomTraductions=\"Images.txt\""
   ]
  },
  {
   "cell_type": "code",
   "execution_count": 11,
   "metadata": {
    "collapsed": true
   },
   "outputs": [],
   "source": [
    "categorie=u\"Kalaba16/K1/Écriture/DDT/\""
   ]
  },
  {
   "cell_type": "markdown",
   "metadata": {},
   "source": [
    "- Choisir un thème entre *Phonétique* et *Traductions*"
   ]
  },
  {
   "cell_type": "code",
   "execution_count": 12,
   "metadata": {
    "collapsed": true
   },
   "outputs": [],
   "source": [
    "theme=u\"Phonétique\"\n",
    "theme=u\"Traductions\"\n",
    "questions=XMLSeries(categorie+theme)"
   ]
  },
  {
   "cell_type": "code",
   "execution_count": 13,
   "metadata": {
    "collapsed": true
   },
   "outputs": [],
   "source": [
    "traductionsLignes=codecs.open(repertoire+nomTraductions,\"r\",encoding=\"utf8\").readlines()\n",
    "prononciations=[]\n",
    "traductions=[]\n",
    "for t in traductionsLignes:\n",
    "    (prononciation,traduction)=t.strip().split(\";\")\n",
    "    prononciations.append(prononciation)\n",
    "    traductions.append(traduction)"
   ]
  },
  {
   "cell_type": "code",
   "execution_count": 14,
   "metadata": {
    "collapsed": true
   },
   "outputs": [],
   "source": [
    "def encodeImage(image):\n",
    "    ioImage=StringIO.StringIO()\n",
    "    resizedImage=Image.new(mode='RGBA', size=(600, image.size[1]), color=(0,0,0,0))\n",
    "    resizedImage.paste(image, (0, 0))\n",
    "    resizedImage.save(ioImage,\"PNG\")\n",
    "    result=base64.b64encode(ioImage.getvalue())\n",
    "    return result"
   ]
  },
  {
   "cell_type": "code",
   "execution_count": 15,
   "metadata": {
    "collapsed": false
   },
   "outputs": [],
   "source": [
    "groupeNum=5\n",
    "phraseNum=0\n",
    "\n",
    "for num,filenames in enumerate(zip(*(iter(nomImages),) * groupeNum)):\n",
    "    consigne=\"\"\n",
    "    images = [Image.open(filename) for filename in filenames]\n",
    "    for numImage,image in enumerate([encodeImage(f) for f in images]):\n",
    "        ligneImage=u'<p>Écriture : <img alt=\"Embedded Image\" src=\"data:image/png;base64,%s\"/></p>'%image\n",
    "        ligneReponse=u'<p>Prononciation : [[%d]]'%(numImage+1)        \n",
    "        consigne+=ligneImage+ligneReponse\n",
    "    pieces=[]\n",
    "    for i in range(groupeNum):\n",
    "        if theme==\"Traductions\":\n",
    "            pieces.append(traductions[phraseNum])\n",
    "        else:\n",
    "            pieces.append(prononciations[phraseNum])\n",
    "        phraseNum+=1\n",
    "    ddt=DragDropText(u\"Écriture %02d\"%(num+1),\n",
    "                      consigne,\n",
    "                      pieces\n",
    "                     )\n",
    "    questions.addExercice(ddt)"
   ]
  },
  {
   "cell_type": "code",
   "execution_count": 16,
   "metadata": {
    "collapsed": false,
    "scrolled": true
   },
   "outputs": [],
   "source": [
    "xmlOutput=MoodleXML()\n",
    "xmlOutput.addQuiz(questions.getSeries())"
   ]
  },
  {
   "cell_type": "code",
   "execution_count": 17,
   "metadata": {
    "collapsed": false,
    "scrolled": true
   },
   "outputs": [],
   "source": [
    "xmlFichier=repertoire+nomTraductions.replace(\".txt\",\"-%s.xml\"%theme)\n",
    "with codecs.open(xmlFichier, 'w',encoding=\"utf8\") as output:\n",
    "    output.write(xmlOutput.getXML())"
   ]
  },
  {
   "cell_type": "code",
   "execution_count": null,
   "metadata": {
    "collapsed": true
   },
   "outputs": [],
   "source": []
  }
 ],
 "metadata": {
  "kernelspec": {
   "display_name": "Python 2",
   "language": "python",
   "name": "python2"
  },
  "language_info": {
   "codemirror_mode": {
    "name": "ipython",
    "version": 2
   },
   "file_extension": ".py",
   "mimetype": "text/x-python",
   "name": "python",
   "nbconvert_exporter": "python",
   "pygments_lexer": "ipython2",
   "version": "2.7.12"
  }
 },
 "nbformat": 4,
 "nbformat_minor": 0
}
