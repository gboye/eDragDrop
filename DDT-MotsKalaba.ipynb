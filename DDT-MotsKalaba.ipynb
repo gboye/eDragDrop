{
 "cells": [
  {
   "cell_type": "markdown",
   "metadata": {},
   "source": [
    "# Exercices sur l'ordre des mots en kalaba\n",
    "On prend un fichier CSV de traductions kalaba;français\n",
    "- on utilise les mots de la partie phonétique pour les éléments à placer \n",
    "- la traduction sert pour la consigne.\n"
   ]
  },
  {
   "cell_type": "code",
   "execution_count": 1,
   "metadata": {},
   "outputs": [],
   "source": [
    "import glob, codecs, StringIO\n",
    "import base64\n",
    "from ToolsMoodleXML import *\n",
    "import ToolsMoodleXML\n",
    "from PIL import Image\n",
    "from cellbell import ding"
   ]
  },
  {
   "cell_type": "code",
   "execution_count": 2,
   "metadata": {},
   "outputs": [],
   "source": [
    "nKalaba=\"K2\"\n",
    "annee=\"21\"\n",
    "repertoire=\"/Users/gilles/ownCloud/Cours/Bordeaux/L1-LinguistiqueGenerale/00-ProjetKalaba/%s-%s/\"%(annee,nKalaba)\n",
    "nomTraductions=\"Ordre.txt\"\n",
    "# nomTraductions=\"OrdreSyntagmes.txt\""
   ]
  },
  {
   "cell_type": "code",
   "execution_count": 3,
   "metadata": {},
   "outputs": [],
   "source": [
    "categorie=u\"Kalaba/%s/Syntaxe/A2B1/Ordre/Mots/DDT/\"%nKalaba"
   ]
  },
  {
   "cell_type": "markdown",
   "metadata": {},
   "source": [
    "- Les mots sont donnés en *phonétique* et la consigne contient la *traduction*"
   ]
  },
  {
   "cell_type": "code",
   "execution_count": 4,
   "metadata": {},
   "outputs": [],
   "source": [
    "theme=u\"OrdrePhrases\"\n",
    "#questions=XMLSeries(categorie+theme)"
   ]
  },
  {
   "cell_type": "code",
   "execution_count": 5,
   "metadata": {},
   "outputs": [],
   "source": [
    "nomFonctions=[\"SUJ\",\"VER\",\"OBJ\",\"IND\",\"COMP\",\"AJOUT\"]"
   ]
  },
  {
   "cell_type": "markdown",
   "metadata": {},
   "source": [
    "# Problèmes et Modifications\n",
    "- il faudrait changer la stratégie pour les mots dupliqués\n",
    " - utiliser la notion de *réutilisable* de Moodle"
   ]
  },
  {
   "cell_type": "code",
   "execution_count": 6,
   "metadata": {},
   "outputs": [],
   "source": [
    "traductionsLignes=codecs.open(repertoire+nomTraductions,\"r\",encoding=\"utf8\").readlines()\n",
    "#traductionsLignes=[traductionsLignes[-1]]\n",
    "phrases=[]\n",
    "traductions=[]\n",
    "for t in traductionsLignes:\n",
    "    elements=t.strip().split(\";\")\n",
    "    if len(elements)==2:\n",
    "        (phrase,traduction)=elements\n",
    "    elif len(elements)==3:\n",
    "        traduction=elements[1]\n",
    "        phrase=elements[2]\n",
    "    mots=phrase.strip().split(\" \")\n",
    "    duplicateMots=list(set([x for x in mots if mots.count(x)>1]))\n",
    "    if duplicateMots:\n",
    "        motsTemp=[]\n",
    "        motsNumbers={m:1 for m in duplicateMots}\n",
    "        for mot in mots:\n",
    "            if mot in duplicateMots:\n",
    "                motsTemp.append(mot+\"_%d\"%motsNumbers[mot])\n",
    "                motsNumbers[mot]+=1\n",
    "            else:\n",
    "                motsTemp.append(mot)\n",
    "#        print motsTemp\n",
    "        mots=motsTemp[:]\n",
    "    phrases.append(mots)\n",
    "    traductions.append(traduction)"
   ]
  },
  {
   "cell_type": "code",
   "execution_count": 7,
   "metadata": {},
   "outputs": [],
   "source": [
    "def xmlExport(phraseChunks,numImage=0,numSlice=0):\n",
    "    questions=XMLSeries(categorie+theme)\n",
    "    for numPhrase,phrase in enumerate(phraseChunks):\n",
    "        numImage+=len(phrase)\n",
    "        dragdropElements=[]\n",
    "        consigne=u\"Mettez les morceaux de la phrase suivante dans l'ordre<br>\"\n",
    "        consigne+=traductions[numPhrase]+\"<br>\"\n",
    "        print len(phrase)\n",
    "        for numChunk,chunk in enumerate(phrase):\n",
    "            consigne+=\"[[%d]] \"%(numChunk+1)\n",
    "            dragdropElements.append(chunk)\n",
    "        ddt=DragDropText(u\"Phrase-%03d\"%(numPhrase+1+numSlice*tailleSlice),\n",
    "                         consigne,\n",
    "                         dragdropElements\n",
    "                        )\n",
    "        questions.addExercice(ddt)\n",
    "\n",
    "    xmlOutput=MoodleXML()\n",
    "    xmlOutput.addQuiz(questions.getSeries())\n",
    "\n",
    "#    return xmlOutput\n",
    "    xmlFichier=repertoire+nomTraductions.replace(\".txt\",\"-%s-%02d.xml\"%(theme,numSlice))\n",
    "    with codecs.open(xmlFichier, 'w',encoding=\"utf8\") as output:\n",
    "        output.write(xmlOutput.getXML())\n",
    "    return (numImage)"
   ]
  },
  {
   "cell_type": "code",
   "execution_count": 8,
   "metadata": {},
   "outputs": [],
   "source": [
    "#phrases[-1]"
   ]
  },
  {
   "cell_type": "code",
   "execution_count": 9,
   "metadata": {},
   "outputs": [
    {
     "name": "stdout",
     "output_type": "stream",
     "text": [
      "6\n",
      "8\n",
      "8\n",
      "6\n",
      "8\n",
      "7\n",
      "7\n",
      "8\n",
      "9\n",
      "9\n",
      "10\n",
      "7\n",
      "8\n",
      "9\n",
      "11\n",
      "9\n",
      "10\n",
      "9\n",
      "9\n",
      "11\n",
      "6\n",
      "13\n",
      "8\n",
      "8\n",
      "9\n",
      "9\n",
      "7\n",
      "14\n",
      "12\n",
      "12\n",
      "14\n",
      "10\n",
      "12\n",
      "6\n",
      "6\n",
      "8\n",
      "8\n",
      "7\n",
      "6\n",
      "9\n",
      "8\n",
      "8\n",
      "10\n",
      "9\n",
      "11\n",
      "8\n",
      "10\n",
      "9\n",
      "6\n",
      "6\n",
      "11\n",
      "7\n",
      "7\n",
      "13\n",
      "8\n",
      "8\n",
      "10\n",
      "7\n",
      "12\n",
      "7\n",
      "7\n",
      "8\n",
      "7\n",
      "11\n",
      "11\n",
      "12\n",
      "10\n",
      "16\n",
      "8\n",
      "13\n",
      "9\n",
      "12\n",
      "5\n",
      "8\n",
      "12\n",
      "8\n",
      "14\n",
      "5\n",
      "5\n",
      "9\n",
      "9\n",
      "9\n",
      "10\n",
      "12\n",
      "10\n",
      "9\n",
      "8\n",
      "6\n",
      "10\n",
      "8\n",
      "11\n",
      "10\n",
      "8\n",
      "5\n",
      "7\n",
      "9\n",
      "9\n",
      "10\n",
      "8\n",
      "6\n",
      "7\n",
      "10\n",
      "10\n",
      "5\n",
      "8\n",
      "7\n",
      "6\n",
      "13\n",
      "9\n",
      "8\n",
      "8\n",
      "10\n",
      "9\n",
      "6\n",
      "12\n",
      "10\n",
      "9\n",
      "10\n",
      "7\n",
      "9\n",
      "13\n",
      "12\n",
      "7\n",
      "8\n",
      "13\n",
      "10\n",
      "8\n",
      "14\n",
      "6\n",
      "10\n",
      "7\n",
      "8\n",
      "9\n",
      "11\n",
      "8\n",
      "17\n",
      "11\n",
      "11\n",
      "11\n",
      "11\n",
      "9\n",
      "9\n",
      "10\n",
      "9\n",
      "6\n",
      "8\n",
      "6\n",
      "13\n",
      "8\n",
      "7\n",
      "13\n",
      "7\n",
      "7\n",
      "9\n",
      "8\n",
      "5\n",
      "10\n",
      "7\n",
      "15\n",
      "12\n",
      "6\n",
      "5\n",
      "6\n",
      "11\n",
      "6\n",
      "7\n",
      "7\n",
      "16\n",
      "13\n",
      "8\n",
      "9\n",
      "12\n",
      "13\n",
      "11\n",
      "13\n",
      "9\n",
      "13\n",
      "15\n",
      "13\n",
      "13\n",
      "14\n"
     ]
    },
    {
     "data": {
      "text/plain": [
       "1668"
      ]
     },
     "execution_count": 9,
     "metadata": {},
     "output_type": "execute_result"
    }
   ],
   "source": [
    "tailleSlice=500\n",
    "xmlExport(phrases)"
   ]
  },
  {
   "cell_type": "code",
   "execution_count": 10,
   "metadata": {},
   "outputs": [
    {
     "ename": "ImportError",
     "evalue": "Library \"c\" not found.",
     "output_type": "error",
     "traceback": [
      "\u001b[0;31m---------------------------------------------------------------------------\u001b[0m",
      "\u001b[0;31mImportError\u001b[0m                               Traceback (most recent call last)",
      "\u001b[0;32m<ipython-input-10-265bf98eb480>\u001b[0m in \u001b[0;36m<module>\u001b[0;34m()\u001b[0m\n\u001b[0;32m----> 1\u001b[0;31m \u001b[0mding\u001b[0m\u001b[0;34m(\u001b[0m\u001b[0;34m)\u001b[0m\u001b[0;34m\u001b[0m\u001b[0m\n\u001b[0m",
      "\u001b[0;32m/Users/gilles/anaconda/lib/python2.7/site-packages/cellbell/cellbell.pyc\u001b[0m in \u001b[0;36mding\u001b[0;34m()\u001b[0m\n\u001b[1;32m     28\u001b[0m     \"\"\"\n\u001b[1;32m     29\u001b[0m \u001b[0;34m\u001b[0m\u001b[0m\n\u001b[0;32m---> 30\u001b[0;31m     \u001b[0mbell\u001b[0m\u001b[0;34m.\u001b[0m\u001b[0mplay\u001b[0m\u001b[0;34m(\u001b[0m\u001b[0;34m)\u001b[0m\u001b[0;34m\u001b[0m\u001b[0m\n\u001b[0m",
      "\u001b[0;32m/Users/gilles/anaconda/lib/python2.7/site-packages/pyglet/media/__init__.pyc\u001b[0m in \u001b[0;36mplay\u001b[0;34m(self)\u001b[0m\n\u001b[1;32m    478\u001b[0m         '''\n\u001b[1;32m    479\u001b[0m         \u001b[0mplayer\u001b[0m \u001b[0;34m=\u001b[0m \u001b[0mManagedSoundPlayer\u001b[0m\u001b[0;34m(\u001b[0m\u001b[0;34m)\u001b[0m\u001b[0;34m\u001b[0m\u001b[0m\n\u001b[0;32m--> 480\u001b[0;31m         \u001b[0mplayer\u001b[0m\u001b[0;34m.\u001b[0m\u001b[0mqueue\u001b[0m\u001b[0;34m(\u001b[0m\u001b[0mself\u001b[0m\u001b[0;34m)\u001b[0m\u001b[0;34m\u001b[0m\u001b[0m\n\u001b[0m\u001b[1;32m    481\u001b[0m         \u001b[0mplayer\u001b[0m\u001b[0;34m.\u001b[0m\u001b[0mplay\u001b[0m\u001b[0;34m(\u001b[0m\u001b[0;34m)\u001b[0m\u001b[0;34m\u001b[0m\u001b[0m\n\u001b[1;32m    482\u001b[0m         \u001b[0;32mreturn\u001b[0m \u001b[0mplayer\u001b[0m\u001b[0;34m\u001b[0m\u001b[0m\n",
      "\u001b[0;32m/Users/gilles/anaconda/lib/python2.7/site-packages/pyglet/media/__init__.pyc\u001b[0m in \u001b[0;36mqueue\u001b[0;34m(self, source)\u001b[0m\n\u001b[1;32m    988\u001b[0m                 \u001b[0mself\u001b[0m\u001b[0;34m.\u001b[0m\u001b[0m_set_eos_action\u001b[0m\u001b[0;34m(\u001b[0m\u001b[0mself\u001b[0m\u001b[0;34m.\u001b[0m\u001b[0m_eos_action\u001b[0m\u001b[0;34m)\u001b[0m\u001b[0;34m\u001b[0m\u001b[0m\n\u001b[1;32m    989\u001b[0m \u001b[0;34m\u001b[0m\u001b[0m\n\u001b[0;32m--> 990\u001b[0;31m         \u001b[0mself\u001b[0m\u001b[0;34m.\u001b[0m\u001b[0m_set_playing\u001b[0m\u001b[0;34m(\u001b[0m\u001b[0mself\u001b[0m\u001b[0;34m.\u001b[0m\u001b[0m_playing\u001b[0m\u001b[0;34m)\u001b[0m\u001b[0;34m\u001b[0m\u001b[0m\n\u001b[0m\u001b[1;32m    991\u001b[0m \u001b[0;34m\u001b[0m\u001b[0m\n\u001b[1;32m    992\u001b[0m     \u001b[0;32mdef\u001b[0m \u001b[0m_set_playing\u001b[0m\u001b[0;34m(\u001b[0m\u001b[0mself\u001b[0m\u001b[0;34m,\u001b[0m \u001b[0mplaying\u001b[0m\u001b[0;34m)\u001b[0m\u001b[0;34m:\u001b[0m\u001b[0;34m\u001b[0m\u001b[0m\n",
      "\u001b[0;32m/Users/gilles/anaconda/lib/python2.7/site-packages/pyglet/media/__init__.pyc\u001b[0m in \u001b[0;36m_set_playing\u001b[0;34m(self, playing)\u001b[0m\n\u001b[1;32m   1015\u001b[0m                 \u001b[0mself\u001b[0m\u001b[0;34m.\u001b[0m\u001b[0m_audio_player\u001b[0m\u001b[0;34m.\u001b[0m\u001b[0mstop\u001b[0m\u001b[0;34m(\u001b[0m\u001b[0;34m)\u001b[0m\u001b[0;34m\u001b[0m\u001b[0m\n\u001b[1;32m   1016\u001b[0m \u001b[0;34m\u001b[0m\u001b[0m\n\u001b[0;32m-> 1017\u001b[0;31m             \u001b[0mpyglet\u001b[0m\u001b[0;34m.\u001b[0m\u001b[0mclock\u001b[0m\u001b[0;34m.\u001b[0m\u001b[0munschedule\u001b[0m\u001b[0;34m(\u001b[0m\u001b[0mself\u001b[0m\u001b[0;34m.\u001b[0m\u001b[0mupdate_texture\u001b[0m\u001b[0;34m)\u001b[0m\u001b[0;34m\u001b[0m\u001b[0m\n\u001b[0m\u001b[1;32m   1018\u001b[0m \u001b[0;34m\u001b[0m\u001b[0m\n\u001b[1;32m   1019\u001b[0m     \u001b[0;32mdef\u001b[0m \u001b[0mplay\u001b[0m\u001b[0;34m(\u001b[0m\u001b[0mself\u001b[0m\u001b[0;34m)\u001b[0m\u001b[0;34m:\u001b[0m\u001b[0;34m\u001b[0m\u001b[0m\n",
      "\u001b[0;32m/Users/gilles/anaconda/lib/python2.7/site-packages/pyglet/__init__.pyc\u001b[0m in \u001b[0;36m__getattr__\u001b[0;34m(self, name)\u001b[0m\n\u001b[1;32m    355\u001b[0m \u001b[0;34m\u001b[0m\u001b[0m\n\u001b[1;32m    356\u001b[0m             \u001b[0mimport_name\u001b[0m \u001b[0;34m=\u001b[0m \u001b[0;34m'pyglet.%s'\u001b[0m \u001b[0;34m%\u001b[0m \u001b[0mself\u001b[0m\u001b[0;34m.\u001b[0m\u001b[0m_module_name\u001b[0m\u001b[0;34m\u001b[0m\u001b[0m\n\u001b[0;32m--> 357\u001b[0;31m             \u001b[0m__import__\u001b[0m\u001b[0;34m(\u001b[0m\u001b[0mimport_name\u001b[0m\u001b[0;34m)\u001b[0m\u001b[0;34m\u001b[0m\u001b[0m\n\u001b[0m\u001b[1;32m    358\u001b[0m             \u001b[0mmodule\u001b[0m \u001b[0;34m=\u001b[0m \u001b[0msys\u001b[0m\u001b[0;34m.\u001b[0m\u001b[0mmodules\u001b[0m\u001b[0;34m[\u001b[0m\u001b[0mimport_name\u001b[0m\u001b[0;34m]\u001b[0m\u001b[0;34m\u001b[0m\u001b[0m\n\u001b[1;32m    359\u001b[0m             \u001b[0mobject\u001b[0m\u001b[0;34m.\u001b[0m\u001b[0m__setattr__\u001b[0m\u001b[0;34m(\u001b[0m\u001b[0mself\u001b[0m\u001b[0;34m,\u001b[0m \u001b[0;34m'_module'\u001b[0m\u001b[0;34m,\u001b[0m \u001b[0mmodule\u001b[0m\u001b[0;34m)\u001b[0m\u001b[0;34m\u001b[0m\u001b[0m\n",
      "\u001b[0;32m/Users/gilles/anaconda/lib/python2.7/site-packages/pyglet/clock.py\u001b[0m in \u001b[0;36m<module>\u001b[0;34m()\u001b[0m\n\u001b[1;32m    166\u001b[0m \u001b[0;34m\u001b[0m\u001b[0m\n\u001b[1;32m    167\u001b[0m \u001b[0;32melse\u001b[0m\u001b[0;34m:\u001b[0m\u001b[0;34m\u001b[0m\u001b[0m\n\u001b[0;32m--> 168\u001b[0;31m     \u001b[0m_c\u001b[0m \u001b[0;34m=\u001b[0m \u001b[0mpyglet\u001b[0m\u001b[0;34m.\u001b[0m\u001b[0mlib\u001b[0m\u001b[0;34m.\u001b[0m\u001b[0mload_library\u001b[0m\u001b[0;34m(\u001b[0m\u001b[0;34m'c'\u001b[0m\u001b[0;34m)\u001b[0m\u001b[0;34m\u001b[0m\u001b[0m\n\u001b[0m\u001b[1;32m    169\u001b[0m     \u001b[0m_c\u001b[0m\u001b[0;34m.\u001b[0m\u001b[0musleep\u001b[0m\u001b[0;34m.\u001b[0m\u001b[0margtypes\u001b[0m \u001b[0;34m=\u001b[0m \u001b[0;34m[\u001b[0m\u001b[0mctypes\u001b[0m\u001b[0;34m.\u001b[0m\u001b[0mc_ulong\u001b[0m\u001b[0;34m]\u001b[0m\u001b[0;34m\u001b[0m\u001b[0m\n\u001b[1;32m    170\u001b[0m \u001b[0;34m\u001b[0m\u001b[0m\n",
      "\u001b[0;32m/Users/gilles/anaconda/lib/python2.7/site-packages/pyglet/lib.pyc\u001b[0m in \u001b[0;36mload_library\u001b[0;34m(self, *names, **kwargs)\u001b[0m\n\u001b[1;32m    140\u001b[0m                     \u001b[0;32mexcept\u001b[0m \u001b[0mOSError\u001b[0m\u001b[0;34m:\u001b[0m\u001b[0;34m\u001b[0m\u001b[0m\n\u001b[1;32m    141\u001b[0m                         \u001b[0;32mpass\u001b[0m\u001b[0;34m\u001b[0m\u001b[0m\n\u001b[0;32m--> 142\u001b[0;31m         \u001b[0;32mraise\u001b[0m \u001b[0mImportError\u001b[0m\u001b[0;34m(\u001b[0m\u001b[0;34m'Library \"%s\" not found.'\u001b[0m \u001b[0;34m%\u001b[0m \u001b[0mnames\u001b[0m\u001b[0;34m[\u001b[0m\u001b[0;36m0\u001b[0m\u001b[0;34m]\u001b[0m\u001b[0;34m)\u001b[0m\u001b[0;34m\u001b[0m\u001b[0m\n\u001b[0m\u001b[1;32m    143\u001b[0m \u001b[0;34m\u001b[0m\u001b[0m\n\u001b[1;32m    144\u001b[0m     \u001b[0mfind_library\u001b[0m \u001b[0;34m=\u001b[0m \u001b[0;32mlambda\u001b[0m \u001b[0mself\u001b[0m\u001b[0;34m,\u001b[0m \u001b[0mname\u001b[0m\u001b[0;34m:\u001b[0m \u001b[0mctypes\u001b[0m\u001b[0;34m.\u001b[0m\u001b[0mutil\u001b[0m\u001b[0;34m.\u001b[0m\u001b[0mfind_library\u001b[0m\u001b[0;34m(\u001b[0m\u001b[0mname\u001b[0m\u001b[0;34m)\u001b[0m\u001b[0;34m\u001b[0m\u001b[0m\n",
      "\u001b[0;31mImportError\u001b[0m: Library \"c\" not found."
     ]
    }
   ],
   "source": [
    "ding()"
   ]
  }
 ],
 "metadata": {
  "kernelspec": {
   "display_name": "Python 2",
   "language": "python",
   "name": "python2"
  },
  "language_info": {
   "codemirror_mode": {
    "name": "ipython",
    "version": 2
   },
   "file_extension": ".py",
   "mimetype": "text/x-python",
   "name": "python",
   "nbconvert_exporter": "python",
   "pygments_lexer": "ipython2",
   "version": "2.7.15"
  }
 },
 "nbformat": 4,
 "nbformat_minor": 1
}
